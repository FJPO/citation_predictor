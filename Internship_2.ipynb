{
  "nbformat": 4,
  "nbformat_minor": 0,
  "metadata": {
    "colab": {
      "name": "Internship_2.ipynb",
      "provenance": [],
      "collapsed_sections": [],
      "authorship_tag": "ABX9TyMTuAz6ipCfe7T7r5izOTb8",
      "include_colab_link": true
    },
    "kernelspec": {
      "name": "python3",
      "display_name": "Python 3"
    }
  },
  "cells": [
    {
      "cell_type": "markdown",
      "metadata": {
        "id": "view-in-github",
        "colab_type": "text"
      },
      "source": [
        "<a href=\"https://colab.research.google.com/github/FJPO/citation_predictor/blob/main/Internship_2.ipynb\" target=\"_parent\"><img src=\"https://colab.research.google.com/assets/colab-badge.svg\" alt=\"Open In Colab\"/></a>"
      ]
    },
    {
      "cell_type": "code",
      "metadata": {
        "id": "5xxX1sL5oeC-"
      },
      "source": [
        "import numpy as np\r\n",
        "import pandas as pd\r\n",
        "\r\n",
        "from sklearn import preprocessing\r\n",
        "from sklearn.model_selection import train_test_split\r\n",
        "\r\n",
        "from tensorflow.keras.models import Sequential\r\n",
        "from tensorflow.keras.layers import Dense\r\n",
        "from tensorflow.keras.optimizers import Adam\r\n",
        "\r\n",
        "import matplotlib.pyplot as plt\r\n",
        "from time import gmtime, strftime"
      ],
      "execution_count": 45,
      "outputs": []
    },
    {
      "cell_type": "code",
      "metadata": {
        "id": "7GX1tLevpGMr"
      },
      "source": [
        "data = pd.read_csv('predict.csv')\r\n",
        "data = data.drop(['authors_mean_pagerank', 'authors_mean_productivity', 'journal_pagerank'], axis = 1)\r\n",
        "data = data[~np.isnan(data).any(axis = 1)]\r\n",
        "\r\n",
        "yScaler = preprocessing.MinMaxScaler()\r\n",
        "y_train = yScaler.fit_transform(np.array(data['c5']).reshape(-1,1))\r\n",
        "\r\n",
        "x_train = data.drop('c5', axis = 1)\r\n",
        "for i, name in enumerate(x_train.columns):\r\n",
        "  x_train[name] = preprocessing.MinMaxScaler().fit_transform(np.array(data[name]).reshape(-1, 1))\r\n",
        "\r\n",
        "x_train, x_test, y_train, y_test = train_test_split(x_train, y_train, train_size = 0.2, shuffle = True)"
      ],
      "execution_count": 37,
      "outputs": []
    },
    {
      "cell_type": "code",
      "metadata": {
        "colab": {
          "base_uri": "https://localhost:8080/"
        },
        "id": "pcgjHH--sEUi",
        "outputId": "bfbca703-e010-4111-cfaa-dac721b4af6f"
      },
      "source": [
        "model = Sequential()\r\n",
        "model.add(Dense(150, input_dim = x_train.shape[1], activation = 'relu'))\r\n",
        "model.add(Dense(150, activation = 'relu'))\r\n",
        "model.add(Dense(1))\r\n",
        "model.compile(optimizer = Adam(lr = 0.001), loss = 'mse')\r\n",
        "\r\n",
        "log = model.fit(x_train, y_train, 16, 10, verbose=1, validation_split=0.2)"
      ],
      "execution_count": 41,
      "outputs": [
        {
          "output_type": "stream",
          "text": [
            "Epoch 1/10\n",
            "5/5 [==============================] - 1s 47ms/step - loss: 0.0092 - val_loss: 0.0078\n",
            "Epoch 2/10\n",
            "5/5 [==============================] - 0s 12ms/step - loss: 0.0040 - val_loss: 0.0073\n",
            "Epoch 3/10\n",
            "5/5 [==============================] - 0s 13ms/step - loss: 0.0031 - val_loss: 0.0047\n",
            "Epoch 4/10\n",
            "5/5 [==============================] - 0s 14ms/step - loss: 0.0014 - val_loss: 0.0041\n",
            "Epoch 5/10\n",
            "5/5 [==============================] - 0s 13ms/step - loss: 9.4213e-04 - val_loss: 0.0038\n",
            "Epoch 6/10\n",
            "5/5 [==============================] - 0s 16ms/step - loss: 7.1685e-04 - val_loss: 0.0034\n",
            "Epoch 7/10\n",
            "5/5 [==============================] - 0s 13ms/step - loss: 6.2673e-04 - val_loss: 0.0034\n",
            "Epoch 8/10\n",
            "5/5 [==============================] - 0s 12ms/step - loss: 5.1703e-04 - val_loss: 0.0033\n",
            "Epoch 9/10\n",
            "5/5 [==============================] - 0s 13ms/step - loss: 3.9042e-04 - val_loss: 0.0032\n",
            "Epoch 10/10\n",
            "5/5 [==============================] - 0s 13ms/step - loss: 4.6964e-04 - val_loss: 0.0030\n"
          ],
          "name": "stdout"
        }
      ]
    },
    {
      "cell_type": "code",
      "metadata": {
        "colab": {
          "base_uri": "https://localhost:8080/"
        },
        "id": "_jSl6rAhu-42",
        "outputId": "0a8aaede-252e-47c0-bac0-a807420097cb"
      },
      "source": [
        "y_test_from_model = yScaler.inverse_transform(model.predict(x_test))\r\n",
        "y_actual = yScaler.inverse_transform(y_test)\r\n",
        "# for i in range(len(y_actual)):\r\n",
        "#   print(int(y_test_from_model[i]) if (y_test_from_model[i] > 0) else 0, '\\t', int(y_actual[i][0]))\r\n",
        "\r\n",
        "diff = y_test_from_model - y_actual\r\n",
        "err = np.mean(abs(diff))\r\n",
        "print('На тестовом наборе результат в средем отклоняется на', int(err))"
      ],
      "execution_count": 57,
      "outputs": [
        {
          "output_type": "stream",
          "text": [
            "На тестовом наборе результат в средем отклоняется на 5\n"
          ],
          "name": "stdout"
        }
      ]
    },
    {
      "cell_type": "code",
      "metadata": {
        "colab": {
          "base_uri": "https://localhost:8080/",
          "height": 312
        },
        "id": "zqkrCsTQCdDG",
        "outputId": "1b7c1218-8adb-4382-9bff-241d3467dab5"
      },
      "source": [
        "descr = input('Enter description: ')\r\n",
        "if (descr == ''): descr = 'Plot'\r\n",
        "\r\n",
        "\r\n",
        "plt.plot(log.history['loss'], label='Ошибка на обучающем наборе')\r\n",
        "plt.plot(log.history['val_loss'], label='Ошибка на проверочном наборе')\r\n",
        "plt.xlabel('Эпоха обучения')\r\n",
        "plt.ylabel('Ошибка')\r\n",
        "plt.legend()\r\n",
        "\r\n",
        "plt.title(descr)\r\n",
        "plt.savefig(strftime(\"%Y-%m-%d %H:%M:%S\", gmtime()) + '__' + descr + '.png')\r\n",
        "plt.show()"
      ],
      "execution_count": 58,
      "outputs": [
        {
          "output_type": "stream",
          "text": [
            "Enter description: Ошибка\n"
          ],
          "name": "stdout"
        },
        {
          "output_type": "display_data",
          "data": {
            "image/png": "[encoded data removed]",
            "text/plain": [
              "<Figure size 432x288 with 1 Axes>"
            ]
          },
          "metadata": {
            "tags": [],
            "needs_background": "light"
          }
        }
      ]
    }
  ]
}